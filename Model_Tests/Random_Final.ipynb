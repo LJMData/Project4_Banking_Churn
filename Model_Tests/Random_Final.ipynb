{
 "cells": [
  {
   "cell_type": "code",
   "execution_count": 70,
   "id": "82d5cbbe",
   "metadata": {},
   "outputs": [],
   "source": [
    "import pandas as pd\n",
    "from pathlib import Path\n",
    "from sklearn.ensemble import RandomForestClassifier\n",
    "from sklearn.preprocessing import StandardScaler\n",
    "from sklearn.model_selection import train_test_split\n",
    "from sklearn.metrics import confusion_matrix, accuracy_score, classification_report\n",
    "from sklearn.model_selection import GridSearchCV\n",
    "from sklearn.ensemble import RandomForestRegressor\n",
    "from pprint import pprint\n",
    "import numpy as np\n",
    "\n",
    "%matplotlib inline\n",
    "\n",
    "import pydotplus\n",
    "from IPython.display import Image"
   ]
  },
  {
   "cell_type": "code",
   "execution_count": 71,
   "id": "c106adb6",
   "metadata": {},
   "outputs": [
    {
     "data": {
      "text/html": [
       "<div>\n",
       "<style scoped>\n",
       "    .dataframe tbody tr th:only-of-type {\n",
       "        vertical-align: middle;\n",
       "    }\n",
       "\n",
       "    .dataframe tbody tr th {\n",
       "        vertical-align: top;\n",
       "    }\n",
       "\n",
       "    .dataframe thead th {\n",
       "        text-align: right;\n",
       "    }\n",
       "</style>\n",
       "<table border=\"1\" class=\"dataframe\">\n",
       "  <thead>\n",
       "    <tr style=\"text-align: right;\">\n",
       "      <th></th>\n",
       "      <th>CustomerId</th>\n",
       "      <th>CreditScore</th>\n",
       "      <th>Age</th>\n",
       "      <th>Tenure</th>\n",
       "      <th>Balance</th>\n",
       "      <th>NumOfProducts</th>\n",
       "      <th>HasCrCard</th>\n",
       "      <th>IsActiveMember</th>\n",
       "      <th>EstimatedSalary</th>\n",
       "      <th>Exited</th>\n",
       "      <th>Geography_France</th>\n",
       "      <th>Geography_Germany</th>\n",
       "      <th>Geography_Spain</th>\n",
       "      <th>Gender_Female</th>\n",
       "      <th>Gender_Male</th>\n",
       "    </tr>\n",
       "  </thead>\n",
       "  <tbody>\n",
       "    <tr>\n",
       "      <th>0</th>\n",
       "      <td>15634602</td>\n",
       "      <td>-0.326221</td>\n",
       "      <td>0.293517</td>\n",
       "      <td>-1.041760</td>\n",
       "      <td>-1.225848</td>\n",
       "      <td>-0.911583</td>\n",
       "      <td>1</td>\n",
       "      <td>1</td>\n",
       "      <td>0.021886</td>\n",
       "      <td>1</td>\n",
       "      <td>1</td>\n",
       "      <td>0</td>\n",
       "      <td>0</td>\n",
       "      <td>1</td>\n",
       "      <td>0</td>\n",
       "    </tr>\n",
       "    <tr>\n",
       "      <th>1</th>\n",
       "      <td>15647311</td>\n",
       "      <td>-0.440036</td>\n",
       "      <td>0.198164</td>\n",
       "      <td>-1.387538</td>\n",
       "      <td>0.117350</td>\n",
       "      <td>-0.911583</td>\n",
       "      <td>0</td>\n",
       "      <td>1</td>\n",
       "      <td>0.216534</td>\n",
       "      <td>0</td>\n",
       "      <td>0</td>\n",
       "      <td>0</td>\n",
       "      <td>1</td>\n",
       "      <td>1</td>\n",
       "      <td>0</td>\n",
       "    </tr>\n",
       "    <tr>\n",
       "      <th>2</th>\n",
       "      <td>15619304</td>\n",
       "      <td>-1.536794</td>\n",
       "      <td>0.293517</td>\n",
       "      <td>1.032908</td>\n",
       "      <td>1.333053</td>\n",
       "      <td>2.527057</td>\n",
       "      <td>1</td>\n",
       "      <td>0</td>\n",
       "      <td>0.240687</td>\n",
       "      <td>1</td>\n",
       "      <td>1</td>\n",
       "      <td>0</td>\n",
       "      <td>0</td>\n",
       "      <td>1</td>\n",
       "      <td>0</td>\n",
       "    </tr>\n",
       "    <tr>\n",
       "      <th>3</th>\n",
       "      <td>15701354</td>\n",
       "      <td>0.501521</td>\n",
       "      <td>0.007457</td>\n",
       "      <td>-1.387538</td>\n",
       "      <td>-1.225848</td>\n",
       "      <td>0.807737</td>\n",
       "      <td>0</td>\n",
       "      <td>0</td>\n",
       "      <td>-0.108918</td>\n",
       "      <td>0</td>\n",
       "      <td>1</td>\n",
       "      <td>0</td>\n",
       "      <td>0</td>\n",
       "      <td>1</td>\n",
       "      <td>0</td>\n",
       "    </tr>\n",
       "    <tr>\n",
       "      <th>4</th>\n",
       "      <td>15737888</td>\n",
       "      <td>2.063884</td>\n",
       "      <td>0.388871</td>\n",
       "      <td>-1.041760</td>\n",
       "      <td>0.785728</td>\n",
       "      <td>-0.911583</td>\n",
       "      <td>1</td>\n",
       "      <td>1</td>\n",
       "      <td>-0.365276</td>\n",
       "      <td>0</td>\n",
       "      <td>0</td>\n",
       "      <td>0</td>\n",
       "      <td>1</td>\n",
       "      <td>1</td>\n",
       "      <td>0</td>\n",
       "    </tr>\n",
       "  </tbody>\n",
       "</table>\n",
       "</div>"
      ],
      "text/plain": [
       "   CustomerId  CreditScore       Age    Tenure   Balance  NumOfProducts  \\\n",
       "0    15634602    -0.326221  0.293517 -1.041760 -1.225848      -0.911583   \n",
       "1    15647311    -0.440036  0.198164 -1.387538  0.117350      -0.911583   \n",
       "2    15619304    -1.536794  0.293517  1.032908  1.333053       2.527057   \n",
       "3    15701354     0.501521  0.007457 -1.387538 -1.225848       0.807737   \n",
       "4    15737888     2.063884  0.388871 -1.041760  0.785728      -0.911583   \n",
       "\n",
       "   HasCrCard  IsActiveMember  EstimatedSalary  Exited  Geography_France  \\\n",
       "0          1               1         0.021886       1                 1   \n",
       "1          0               1         0.216534       0                 0   \n",
       "2          1               0         0.240687       1                 1   \n",
       "3          0               0        -0.108918       0                 1   \n",
       "4          1               1        -0.365276       0                 0   \n",
       "\n",
       "   Geography_Germany  Geography_Spain  Gender_Female  Gender_Male  \n",
       "0                  0                0              1            0  \n",
       "1                  0                1              1            0  \n",
       "2                  0                0              1            0  \n",
       "3                  0                0              1            0  \n",
       "4                  0                1              1            0  "
      ]
     },
     "execution_count": 71,
     "metadata": {},
     "output_type": "execute_result"
    }
   ],
   "source": [
    "# Loading data\n",
    "\n",
    "df_churn = pd.read_csv(\"processed_data.csv\")\n",
    "df_churn.head()"
   ]
  },
  {
   "cell_type": "code",
   "execution_count": 72,
   "id": "3fba694d",
   "metadata": {},
   "outputs": [],
   "source": [
    "X = df_churn.drop('Exited', axis=1) \n",
    "y = df_churn['Exited']"
   ]
  },
  {
   "cell_type": "code",
   "execution_count": 73,
   "id": "a0d3174b",
   "metadata": {},
   "outputs": [],
   "source": [
    "X_train, X_test, y_train, y_test = train_test_split(X, y, test_size=0.3, random_state=12)"
   ]
  },
  {
   "cell_type": "code",
   "execution_count": 74,
   "id": "a86cd352",
   "metadata": {},
   "outputs": [],
   "source": [
    "#Create a random forest classifier\n",
    "rf_model = RandomForestClassifier(n_estimators=128, random_state=12)"
   ]
  },
  {
   "cell_type": "code",
   "execution_count": 75,
   "id": "51ddcf7b",
   "metadata": {},
   "outputs": [],
   "source": [
    " # Fitting the model\n",
    "rf_model = rf_model.fit(X_train, y_train)"
   ]
  },
  {
   "cell_type": "code",
   "execution_count": 76,
   "id": "558d3461",
   "metadata": {},
   "outputs": [],
   "source": [
    "predictions = rf_model.predict(X_test)"
   ]
  },
  {
   "cell_type": "code",
   "execution_count": 77,
   "id": "bfd8f75b",
   "metadata": {},
   "outputs": [],
   "source": [
    "# Calculating the confusion matrix\n",
    "cm = confusion_matrix(y_test, predictions)\n",
    "cm_df = pd.DataFrame(\n",
    "    cm, index=[\"Actual 0\", \"Actual 1\"], columns=[\"Predicted 0\", \"Predicted 1\"]\n",
    ")\n",
    "\n",
    "# Calculating the accuracy score\n",
    "acc_score = accuracy_score(y_test, predictions)"
   ]
  },
  {
   "cell_type": "code",
   "execution_count": 78,
   "id": "ea795e00",
   "metadata": {},
   "outputs": [
    {
     "name": "stdout",
     "output_type": "stream",
     "text": [
      "Confusion Matrix\n"
     ]
    },
    {
     "data": {
      "text/html": [
       "<div>\n",
       "<style scoped>\n",
       "    .dataframe tbody tr th:only-of-type {\n",
       "        vertical-align: middle;\n",
       "    }\n",
       "\n",
       "    .dataframe tbody tr th {\n",
       "        vertical-align: top;\n",
       "    }\n",
       "\n",
       "    .dataframe thead th {\n",
       "        text-align: right;\n",
       "    }\n",
       "</style>\n",
       "<table border=\"1\" class=\"dataframe\">\n",
       "  <thead>\n",
       "    <tr style=\"text-align: right;\">\n",
       "      <th></th>\n",
       "      <th>Predicted 0</th>\n",
       "      <th>Predicted 1</th>\n",
       "    </tr>\n",
       "  </thead>\n",
       "  <tbody>\n",
       "    <tr>\n",
       "      <th>Actual 0</th>\n",
       "      <td>2284</td>\n",
       "      <td>70</td>\n",
       "    </tr>\n",
       "    <tr>\n",
       "      <th>Actual 1</th>\n",
       "      <td>355</td>\n",
       "      <td>291</td>\n",
       "    </tr>\n",
       "  </tbody>\n",
       "</table>\n",
       "</div>"
      ],
      "text/plain": [
       "          Predicted 0  Predicted 1\n",
       "Actual 0         2284           70\n",
       "Actual 1          355          291"
      ]
     },
     "metadata": {},
     "output_type": "display_data"
    },
    {
     "name": "stdout",
     "output_type": "stream",
     "text": [
      "Accuracy Score : 0.8583333333333333\n",
      "Classification Report\n",
      "              precision    recall  f1-score   support\n",
      "\n",
      "           0       0.87      0.97      0.91      2354\n",
      "           1       0.81      0.45      0.58       646\n",
      "\n",
      "    accuracy                           0.86      3000\n",
      "   macro avg       0.84      0.71      0.75      3000\n",
      "weighted avg       0.85      0.86      0.84      3000\n",
      "\n"
     ]
    }
   ],
   "source": [
    "# Displaying results\n",
    "print(\"Confusion Matrix\")\n",
    "display(cm_df)\n",
    "print(f\"Accuracy Score : {acc_score}\")\n",
    "print(\"Classification Report\")\n",
    "print(classification_report(y_test, predictions))"
   ]
  },
  {
   "cell_type": "code",
   "execution_count": 79,
   "id": "f784a9c6",
   "metadata": {},
   "outputs": [
    {
     "data": {
      "image/png": "[encoded data removed]",
      "text/plain": [
       "<Figure size 640x480 with 2 Axes>"
      ]
     },
     "metadata": {},
     "output_type": "display_data"
    }
   ],
   "source": [
    "import seaborn as sns\n",
    "import matplotlib.pyplot as plt\n",
    "\n",
    "# Create heatmap using Seaborn\n",
    "sns.heatmap(cm_df, annot=True, cmap=\"PiYG\", fmt='g')\n",
    "plt.title(\"Confusion Matrix\")\n",
    "plt.xlabel(\"Predicted\")\n",
    "plt.ylabel(\"Actual\")\n",
    "plt.show()"
   ]
  },
  {
   "cell_type": "code",
   "execution_count": 80,
   "id": "aa65482e",
   "metadata": {},
   "outputs": [
    {
     "data": {
      "text/plain": [
       "[(0.22255013207301538, 'Age'),\n",
       " (0.12097850613803954, 'NumOfProducts'),\n",
       " (0.11900513872126323, 'CreditScore'),\n",
       " (0.11856219142773472, 'CustomerId'),\n",
       " (0.11840355759182722, 'EstimatedSalary'),\n",
       " (0.11832755608097326, 'Balance'),\n",
       " (0.07081521895132588, 'Tenure'),\n",
       " (0.03393695948378065, 'IsActiveMember'),\n",
       " (0.0213983542811976, 'Geography_Germany'),\n",
       " (0.017321650393370074, 'HasCrCard')]"
      ]
     },
     "execution_count": 80,
     "metadata": {},
     "output_type": "execute_result"
    }
   ],
   "source": [
    "# Get the feature importance array\n",
    "importances = rf_model.feature_importances_\n",
    "# List the top 10 most important features\n",
    "importances_sorted = sorted(zip(rf_model.feature_importances_, X.columns), reverse=True)\n",
    "importances_sorted[:10]"
   ]
  },
  {
   "cell_type": "code",
   "execution_count": 81,
   "id": "fd79f764",
   "metadata": {},
   "outputs": [
    {
     "data": {
      "text/plain": [
       "<Axes: title={'center': 'Feature Importances'}, ylabel='1'>"
      ]
     },
     "execution_count": 81,
     "metadata": {},
     "output_type": "execute_result"
    },
    {
     "data": {
      "image/png": "[encoded data removed]",
      "text/plain": [
       "<Figure size 640x480 with 1 Axes>"
      ]
     },
     "metadata": {},
     "output_type": "display_data"
    }
   ],
   "source": [
    "# Visualize the features by importance\n",
    "importances_df = pd.DataFrame(sorted(zip(rf_model.feature_importances_, X.columns), reverse=True))\n",
    "importances_df.set_index(importances_df[1], inplace=True)\n",
    "importances_df.drop(columns=1, inplace=True)\n",
    "importances_df.rename(columns={0: 'Feature Importances'}, inplace=True)\n",
    "importances_sorted = importances_df.sort_values(by='Feature Importances')\n",
    "importances_sorted.plot(kind='barh', color='green', title= 'Feature Importances', legend=False)"
   ]
  },
  {
   "cell_type": "code",
   "execution_count": 82,
   "id": "4810cced",
   "metadata": {},
   "outputs": [
    {
     "name": "stdout",
     "output_type": "stream",
     "text": [
      "Parameters currently in use:\n",
      "\n",
      "{'bootstrap': True,\n",
      " 'ccp_alpha': 0.0,\n",
      " 'class_weight': None,\n",
      " 'criterion': 'gini',\n",
      " 'max_depth': None,\n",
      " 'max_features': 'auto',\n",
      " 'max_leaf_nodes': None,\n",
      " 'max_samples': None,\n",
      " 'min_impurity_decrease': 0.0,\n",
      " 'min_samples_leaf': 1,\n",
      " 'min_samples_split': 2,\n",
      " 'min_weight_fraction_leaf': 0.0,\n",
      " 'n_estimators': 128,\n",
      " 'n_jobs': None,\n",
      " 'oob_score': False,\n",
      " 'random_state': 12,\n",
      " 'verbose': 0,\n",
      " 'warm_start': False}\n"
     ]
    }
   ],
   "source": [
    "print('Parameters currently in use:\\n')\n",
    "pprint(rf_model.get_params())\n"
   ]
  },
  {
   "cell_type": "code",
   "execution_count": 83,
   "id": "ef7c6510",
   "metadata": {
    "scrolled": true
   },
   "outputs": [
    {
     "name": "stdout",
     "output_type": "stream",
     "text": [
      "Best: [0.81214286 0.80985714 0.80942857 0.83385714 0.83042857 0.83314286\n",
      " 0.85542857 0.85528571 0.858     ], using {'max_depth': None, 'n_estimators': 256}\n"
     ]
    },
    {
     "data": {
      "text/html": [
       "<div>\n",
       "<style scoped>\n",
       "    .dataframe tbody tr th:only-of-type {\n",
       "        vertical-align: middle;\n",
       "    }\n",
       "\n",
       "    .dataframe tbody tr th {\n",
       "        vertical-align: top;\n",
       "    }\n",
       "\n",
       "    .dataframe thead th {\n",
       "        text-align: right;\n",
       "    }\n",
       "</style>\n",
       "<table border=\"1\" class=\"dataframe\">\n",
       "  <thead>\n",
       "    <tr style=\"text-align: right;\">\n",
       "      <th></th>\n",
       "      <th>mean_fit_time</th>\n",
       "      <th>std_fit_time</th>\n",
       "      <th>mean_score_time</th>\n",
       "      <th>std_score_time</th>\n",
       "      <th>param_max_depth</th>\n",
       "      <th>param_n_estimators</th>\n",
       "      <th>params</th>\n",
       "      <th>split0_test_score</th>\n",
       "      <th>split1_test_score</th>\n",
       "      <th>split2_test_score</th>\n",
       "      <th>split3_test_score</th>\n",
       "      <th>split4_test_score</th>\n",
       "      <th>mean_test_score</th>\n",
       "      <th>std_test_score</th>\n",
       "      <th>rank_test_score</th>\n",
       "    </tr>\n",
       "  </thead>\n",
       "  <tbody>\n",
       "    <tr>\n",
       "      <th>0</th>\n",
       "      <td>0.302784</td>\n",
       "      <td>0.027514</td>\n",
       "      <td>0.023329</td>\n",
       "      <td>0.002489</td>\n",
       "      <td>2</td>\n",
       "      <td>64</td>\n",
       "      <td>{'max_depth': 2, 'n_estimators': 64}</td>\n",
       "      <td>0.808571</td>\n",
       "      <td>0.806429</td>\n",
       "      <td>0.812143</td>\n",
       "      <td>0.820714</td>\n",
       "      <td>0.812857</td>\n",
       "      <td>0.812143</td>\n",
       "      <td>0.004886</td>\n",
       "      <td>7</td>\n",
       "    </tr>\n",
       "    <tr>\n",
       "      <th>1</th>\n",
       "      <td>0.579782</td>\n",
       "      <td>0.023369</td>\n",
       "      <td>0.042993</td>\n",
       "      <td>0.004258</td>\n",
       "      <td>2</td>\n",
       "      <td>128</td>\n",
       "      <td>{'max_depth': 2, 'n_estimators': 128}</td>\n",
       "      <td>0.809286</td>\n",
       "      <td>0.807143</td>\n",
       "      <td>0.808571</td>\n",
       "      <td>0.811429</td>\n",
       "      <td>0.812857</td>\n",
       "      <td>0.809857</td>\n",
       "      <td>0.002040</td>\n",
       "      <td>8</td>\n",
       "    </tr>\n",
       "    <tr>\n",
       "      <th>2</th>\n",
       "      <td>1.092702</td>\n",
       "      <td>0.025327</td>\n",
       "      <td>0.082337</td>\n",
       "      <td>0.009896</td>\n",
       "      <td>2</td>\n",
       "      <td>256</td>\n",
       "      <td>{'max_depth': 2, 'n_estimators': 256}</td>\n",
       "      <td>0.809286</td>\n",
       "      <td>0.807857</td>\n",
       "      <td>0.812143</td>\n",
       "      <td>0.810714</td>\n",
       "      <td>0.807143</td>\n",
       "      <td>0.809429</td>\n",
       "      <td>0.001829</td>\n",
       "      <td>9</td>\n",
       "    </tr>\n",
       "    <tr>\n",
       "      <th>3</th>\n",
       "      <td>0.365381</td>\n",
       "      <td>0.020119</td>\n",
       "      <td>0.025714</td>\n",
       "      <td>0.004855</td>\n",
       "      <td>4</td>\n",
       "      <td>64</td>\n",
       "      <td>{'max_depth': 4, 'n_estimators': 64}</td>\n",
       "      <td>0.832857</td>\n",
       "      <td>0.827143</td>\n",
       "      <td>0.829286</td>\n",
       "      <td>0.841429</td>\n",
       "      <td>0.838571</td>\n",
       "      <td>0.833857</td>\n",
       "      <td>0.005414</td>\n",
       "      <td>4</td>\n",
       "    </tr>\n",
       "    <tr>\n",
       "      <th>4</th>\n",
       "      <td>0.704404</td>\n",
       "      <td>0.008972</td>\n",
       "      <td>0.047904</td>\n",
       "      <td>0.003969</td>\n",
       "      <td>4</td>\n",
       "      <td>128</td>\n",
       "      <td>{'max_depth': 4, 'n_estimators': 128}</td>\n",
       "      <td>0.832857</td>\n",
       "      <td>0.821429</td>\n",
       "      <td>0.829286</td>\n",
       "      <td>0.836429</td>\n",
       "      <td>0.832143</td>\n",
       "      <td>0.830429</td>\n",
       "      <td>0.005043</td>\n",
       "      <td>6</td>\n",
       "    </tr>\n",
       "    <tr>\n",
       "      <th>5</th>\n",
       "      <td>1.585714</td>\n",
       "      <td>0.280840</td>\n",
       "      <td>0.095929</td>\n",
       "      <td>0.005235</td>\n",
       "      <td>4</td>\n",
       "      <td>256</td>\n",
       "      <td>{'max_depth': 4, 'n_estimators': 256}</td>\n",
       "      <td>0.835000</td>\n",
       "      <td>0.827857</td>\n",
       "      <td>0.827143</td>\n",
       "      <td>0.837143</td>\n",
       "      <td>0.838571</td>\n",
       "      <td>0.833143</td>\n",
       "      <td>0.004751</td>\n",
       "      <td>5</td>\n",
       "    </tr>\n",
       "    <tr>\n",
       "      <th>6</th>\n",
       "      <td>0.684429</td>\n",
       "      <td>0.020251</td>\n",
       "      <td>0.039320</td>\n",
       "      <td>0.003530</td>\n",
       "      <td>None</td>\n",
       "      <td>64</td>\n",
       "      <td>{'max_depth': None, 'n_estimators': 64}</td>\n",
       "      <td>0.860000</td>\n",
       "      <td>0.844286</td>\n",
       "      <td>0.855714</td>\n",
       "      <td>0.869286</td>\n",
       "      <td>0.847857</td>\n",
       "      <td>0.855429</td>\n",
       "      <td>0.008882</td>\n",
       "      <td>2</td>\n",
       "    </tr>\n",
       "    <tr>\n",
       "      <th>7</th>\n",
       "      <td>1.416948</td>\n",
       "      <td>0.044803</td>\n",
       "      <td>0.079455</td>\n",
       "      <td>0.002936</td>\n",
       "      <td>None</td>\n",
       "      <td>128</td>\n",
       "      <td>{'max_depth': None, 'n_estimators': 128}</td>\n",
       "      <td>0.866429</td>\n",
       "      <td>0.839286</td>\n",
       "      <td>0.849286</td>\n",
       "      <td>0.870000</td>\n",
       "      <td>0.851429</td>\n",
       "      <td>0.855286</td>\n",
       "      <td>0.011380</td>\n",
       "      <td>3</td>\n",
       "    </tr>\n",
       "    <tr>\n",
       "      <th>8</th>\n",
       "      <td>2.778137</td>\n",
       "      <td>0.105293</td>\n",
       "      <td>0.155954</td>\n",
       "      <td>0.004933</td>\n",
       "      <td>None</td>\n",
       "      <td>256</td>\n",
       "      <td>{'max_depth': None, 'n_estimators': 256}</td>\n",
       "      <td>0.865000</td>\n",
       "      <td>0.849286</td>\n",
       "      <td>0.853571</td>\n",
       "      <td>0.870714</td>\n",
       "      <td>0.851429</td>\n",
       "      <td>0.858000</td>\n",
       "      <td>0.008359</td>\n",
       "      <td>1</td>\n",
       "    </tr>\n",
       "  </tbody>\n",
       "</table>\n",
       "</div>"
      ],
      "text/plain": [
       "   mean_fit_time  std_fit_time  mean_score_time  std_score_time  \\\n",
       "0       0.302784      0.027514         0.023329        0.002489   \n",
       "1       0.579782      0.023369         0.042993        0.004258   \n",
       "2       1.092702      0.025327         0.082337        0.009896   \n",
       "3       0.365381      0.020119         0.025714        0.004855   \n",
       "4       0.704404      0.008972         0.047904        0.003969   \n",
       "5       1.585714      0.280840         0.095929        0.005235   \n",
       "6       0.684429      0.020251         0.039320        0.003530   \n",
       "7       1.416948      0.044803         0.079455        0.002936   \n",
       "8       2.778137      0.105293         0.155954        0.004933   \n",
       "\n",
       "  param_max_depth param_n_estimators  \\\n",
       "0               2                 64   \n",
       "1               2                128   \n",
       "2               2                256   \n",
       "3               4                 64   \n",
       "4               4                128   \n",
       "5               4                256   \n",
       "6            None                 64   \n",
       "7            None                128   \n",
       "8            None                256   \n",
       "\n",
       "                                     params  split0_test_score  \\\n",
       "0      {'max_depth': 2, 'n_estimators': 64}           0.808571   \n",
       "1     {'max_depth': 2, 'n_estimators': 128}           0.809286   \n",
       "2     {'max_depth': 2, 'n_estimators': 256}           0.809286   \n",
       "3      {'max_depth': 4, 'n_estimators': 64}           0.832857   \n",
       "4     {'max_depth': 4, 'n_estimators': 128}           0.832857   \n",
       "5     {'max_depth': 4, 'n_estimators': 256}           0.835000   \n",
       "6   {'max_depth': None, 'n_estimators': 64}           0.860000   \n",
       "7  {'max_depth': None, 'n_estimators': 128}           0.866429   \n",
       "8  {'max_depth': None, 'n_estimators': 256}           0.865000   \n",
       "\n",
       "   split1_test_score  split2_test_score  split3_test_score  split4_test_score  \\\n",
       "0           0.806429           0.812143           0.820714           0.812857   \n",
       "1           0.807143           0.808571           0.811429           0.812857   \n",
       "2           0.807857           0.812143           0.810714           0.807143   \n",
       "3           0.827143           0.829286           0.841429           0.838571   \n",
       "4           0.821429           0.829286           0.836429           0.832143   \n",
       "5           0.827857           0.827143           0.837143           0.838571   \n",
       "6           0.844286           0.855714           0.869286           0.847857   \n",
       "7           0.839286           0.849286           0.870000           0.851429   \n",
       "8           0.849286           0.853571           0.870714           0.851429   \n",
       "\n",
       "   mean_test_score  std_test_score  rank_test_score  \n",
       "0         0.812143        0.004886                7  \n",
       "1         0.809857        0.002040                8  \n",
       "2         0.809429        0.001829                9  \n",
       "3         0.833857        0.005414                4  \n",
       "4         0.830429        0.005043                6  \n",
       "5         0.833143        0.004751                5  \n",
       "6         0.855429        0.008882                2  \n",
       "7         0.855286        0.011380                3  \n",
       "8         0.858000        0.008359                1  "
      ]
     },
     "execution_count": 83,
     "metadata": {},
     "output_type": "execute_result"
    }
   ],
   "source": [
    "# Define Parameters\n",
    "max_depth=[2, 4, None]\n",
    "n_estimators = [64, 128, 256]\n",
    "param_grid = dict(max_depth=max_depth, n_estimators=n_estimators)\n",
    "rfc = RandomForestClassifier(random_state=12)\n",
    "\n",
    "# Build the grid search\n",
    "dfrst = RandomForestClassifier(n_estimators=n_estimators, max_depth=max_depth)\n",
    "grid = GridSearchCV(estimator=dfrst, param_grid=param_grid, cv = 5)\n",
    "grid_results = grid.fit(X_train, y_train)\n",
    "\n",
    "# Summarize the results in a readable format\n",
    "print(\"Best: {0}, using {1}\".format(grid_results.cv_results_['mean_test_score'], grid_results.best_params_))\n",
    "results_df = pd.DataFrame(grid_results.cv_results_)\n",
    "results_df"
   ]
  },
  {
   "cell_type": "code",
   "execution_count": 84,
   "id": "ef708f2d",
   "metadata": {},
   "outputs": [
    {
     "data": {
      "text/plain": [
       "([<matplotlib.axis.YTick at 0x7ff51b26e490>,\n",
       "  <matplotlib.axis.YTick at 0x7ff51b264ca0>],\n",
       " [Text(0, 0.5, 'False'), Text(0, 1.5, 'True')])"
      ]
     },
     "execution_count": 84,
     "metadata": {},
     "output_type": "execute_result"
    },
    {
     "data": {
      "image/png": "[encoded data removed]",
      "text/plain": [
       "<Figure size 700x600 with 2 Axes>"
      ]
     },
     "metadata": {},
     "output_type": "display_data"
    }
   ],
   "source": [
    "# Extract the best decision forest \n",
    "best_clf = grid_results.best_estimator_\n",
    "y_pred = best_clf.predict(X_test)\n",
    "\n",
    "# Create a confusion matrix\n",
    "cnf_matrix = confusion_matrix(y_test, y_pred)\n",
    "\n",
    "# Create heatmap from the confusion matrix\n",
    "%matplotlib inline\n",
    "class_names=[False, True] # name  of classes\n",
    "fig, ax = plt.subplots(figsize=(7, 6))\n",
    "sns.heatmap(pd.DataFrame(cnf_matrix), annot=True, cmap=\"YlGnBu\", fmt='g')\n",
    "ax.xaxis.set_label_position(\"top\")\n",
    "plt.tight_layout()\n",
    "plt.title('Confusion matrix')\n",
    "plt.ylabel('Actual label')\n",
    "plt.xlabel('Predicted label')\n",
    "tick_marks = [0.5, 1.5]\n",
    "plt.xticks(tick_marks, class_names)\n",
    "plt.yticks(tick_marks, class_names)"
   ]
  },
  {
   "cell_type": "code",
   "execution_count": 90,
   "id": "fe7b8f06",
   "metadata": {},
   "outputs": [],
   "source": [
    "rf_model_bestfit = RandomForestClassifier(n_estimators=256, random_state=12, max_depth=None)"
   ]
  },
  {
   "cell_type": "code",
   "execution_count": 91,
   "id": "d81af215",
   "metadata": {},
   "outputs": [],
   "source": [
    "rf_model_bestfit = rf_model_bestfit.fit(X_train, y_train)"
   ]
  },
  {
   "cell_type": "code",
   "execution_count": 92,
   "id": "b9eee5c6",
   "metadata": {},
   "outputs": [],
   "source": [
    "predictions_2 = rf_model_bestfit.predict(X_test)"
   ]
  },
  {
   "cell_type": "code",
   "execution_count": 93,
   "id": "8ae9c117",
   "metadata": {},
   "outputs": [],
   "source": [
    "# Calculating the confusion matrix\n",
    "cm_2 = confusion_matrix(y_test, predictions)\n",
    "cm_2_df = pd.DataFrame(\n",
    "    cm_2, index=[\"Actual 0\", \"Actual 1\"], columns=[\"Predicted 0\", \"Predicted 1\"]\n",
    ")\n",
    "\n",
    "# Calculating the accuracy score\n",
    "acc_score_2 = accuracy_score(y_test, predictions_2)"
   ]
  },
  {
   "cell_type": "code",
   "execution_count": 94,
   "id": "0751054b",
   "metadata": {
    "scrolled": false
   },
   "outputs": [
    {
     "name": "stdout",
     "output_type": "stream",
     "text": [
      "Confusion Matrix\n"
     ]
    },
    {
     "data": {
      "text/html": [
       "<div>\n",
       "<style scoped>\n",
       "    .dataframe tbody tr th:only-of-type {\n",
       "        vertical-align: middle;\n",
       "    }\n",
       "\n",
       "    .dataframe tbody tr th {\n",
       "        vertical-align: top;\n",
       "    }\n",
       "\n",
       "    .dataframe thead th {\n",
       "        text-align: right;\n",
       "    }\n",
       "</style>\n",
       "<table border=\"1\" class=\"dataframe\">\n",
       "  <thead>\n",
       "    <tr style=\"text-align: right;\">\n",
       "      <th></th>\n",
       "      <th>Predicted 0</th>\n",
       "      <th>Predicted 1</th>\n",
       "    </tr>\n",
       "  </thead>\n",
       "  <tbody>\n",
       "    <tr>\n",
       "      <th>Actual 0</th>\n",
       "      <td>2284</td>\n",
       "      <td>70</td>\n",
       "    </tr>\n",
       "    <tr>\n",
       "      <th>Actual 1</th>\n",
       "      <td>355</td>\n",
       "      <td>291</td>\n",
       "    </tr>\n",
       "  </tbody>\n",
       "</table>\n",
       "</div>"
      ],
      "text/plain": [
       "          Predicted 0  Predicted 1\n",
       "Actual 0         2284           70\n",
       "Actual 1          355          291"
      ]
     },
     "metadata": {},
     "output_type": "display_data"
    },
    {
     "name": "stdout",
     "output_type": "stream",
     "text": [
      "Accuracy Score : 0.8613333333333333\n",
      "Classification Report\n",
      "              precision    recall  f1-score   support\n",
      "\n",
      "           0       0.87      0.97      0.92      2354\n",
      "           1       0.82      0.45      0.58       646\n",
      "\n",
      "    accuracy                           0.86      3000\n",
      "   macro avg       0.85      0.71      0.75      3000\n",
      "weighted avg       0.86      0.86      0.85      3000\n",
      "\n"
     ]
    }
   ],
   "source": [
    "# Displaying results\n",
    "print(\"Confusion Matrix\")\n",
    "display(cm_2_df)\n",
    "print(f\"Accuracy Score : {acc_score_2}\")\n",
    "print(\"Classification Report\")\n",
    "print(classification_report(y_test, predictions_2))"
   ]
  },
  {
   "cell_type": "code",
   "execution_count": null,
   "id": "60ae0cd4",
   "metadata": {},
   "outputs": [],
   "source": []
  },
  {
   "cell_type": "code",
   "execution_count": null,
   "id": "0772d06f",
   "metadata": {},
   "outputs": [],
   "source": []
  }
 ],
 "metadata": {
  "kernelspec": {
   "display_name": "Python 3 (ipykernel)",
   "language": "python",
   "name": "python3"
  },
  "language_info": {
   "codemirror_mode": {
    "name": "ipython",
    "version": 3
   },
   "file_extension": ".py",
   "mimetype": "text/x-python",
   "name": "python",
   "nbconvert_exporter": "python",
   "pygments_lexer": "ipython3",
   "version": "3.9.15"
  }
 },
 "nbformat": 4,
 "nbformat_minor": 5
}
